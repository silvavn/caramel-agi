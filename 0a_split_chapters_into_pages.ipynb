{
 "cells": [
  {
   "cell_type": "code",
   "execution_count": 1,
   "metadata": {},
   "outputs": [],
   "source": [
    "# reads ./data/harry_potter/books/hp1/txt\n",
    "hp1 = \"\"\n",
    "with open(\"./data/harry_potter/books/hp1.txt\", \"r\") as f:\n",
    "    hp1 = f.read()"
   ]
  },
  {
   "cell_type": "code",
   "execution_count": 2,
   "metadata": {},
   "outputs": [],
   "source": [
    "import re"
   ]
  },
  {
   "cell_type": "code",
   "execution_count": 3,
   "metadata": {},
   "outputs": [],
   "source": [
    "pages = re.split(\"\\n\\n\\nPage.{1,}\\n\\n\\n\\n\",hp1)"
   ]
  },
  {
   "cell_type": "code",
   "execution_count": 4,
   "metadata": {},
   "outputs": [],
   "source": [
    "pages[-1] = pages[-1].split(\"\\n\\n\\n\\n\")[0]"
   ]
  },
  {
   "cell_type": "code",
   "execution_count": 5,
   "metadata": {},
   "outputs": [],
   "source": [
    "# replaces '\\n{3,}' with '\\n\\n'\n",
    "pages_parsed = []\n",
    "for i in range(len(pages)):\n",
    "    pages_parsed.append(re.sub(\"\\n{3,}\",\"\\n\\n\",pages[i]).strip())\n",
    "    "
   ]
  },
  {
   "cell_type": "code",
   "execution_count": 9,
   "metadata": {},
   "outputs": [],
   "source": [
    "# save each page as a txt file in ./data/harry_potter/pages/book1\n",
    "for i in range(len(pages_parsed)):\n",
    "    with open(\"./data/harry_potter/pages/book1/page_\"+str(i+1)+\".txt\",\"w\") as f:\n",
    "        f.write(pages_parsed[i])"
   ]
  }
 ],
 "metadata": {
  "kernelspec": {
   "display_name": "caster",
   "language": "python",
   "name": "python3"
  },
  "language_info": {
   "codemirror_mode": {
    "name": "ipython",
    "version": 3
   },
   "file_extension": ".py",
   "mimetype": "text/x-python",
   "name": "python",
   "nbconvert_exporter": "python",
   "pygments_lexer": "ipython3",
   "version": "3.11.5"
  }
 },
 "nbformat": 4,
 "nbformat_minor": 2
}
