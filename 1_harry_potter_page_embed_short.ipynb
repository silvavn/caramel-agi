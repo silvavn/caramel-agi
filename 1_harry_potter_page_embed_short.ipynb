{
 "cells": [
  {
   "cell_type": "code",
   "execution_count": 1,
   "metadata": {},
   "outputs": [],
   "source": [
    "from utils import get_embedding, get_completion, LlamaEmbeddingFunction\n",
    "import os"
   ]
  },
  {
   "cell_type": "code",
   "execution_count": 2,
   "metadata": {},
   "outputs": [],
   "source": [
    "page_files = sorted(os.listdir('./data/harry_potter/pages/book1'))\n",
    "page_ids = list(map(lambda x: x.split('.')[0], page_files))\n",
    "# page_ids = list(map(lambda x: x.split('.')[0].replace(\" \", \"_\"), page_files[:17]))"
   ]
  },
  {
   "cell_type": "code",
   "execution_count": 3,
   "metadata": {},
   "outputs": [],
   "source": [
    "#load all pages into memory \n",
    "pages = []\n",
    "for page_file in page_files:\n",
    "    page = open(f'data/harry_potter/pages/book1/{page_file}', 'r').read()\n",
    "    pages.append(page)"
   ]
  },
  {
   "cell_type": "markdown",
   "metadata": {},
   "source": [
    "--------"
   ]
  },
  {
   "cell_type": "markdown",
   "metadata": {},
   "source": [
    "ChromaDB"
   ]
  },
  {
   "cell_type": "code",
   "execution_count": 4,
   "metadata": {},
   "outputs": [],
   "source": [
    "import chromadb"
   ]
  },
  {
   "cell_type": "code",
   "execution_count": 5,
   "metadata": {},
   "outputs": [],
   "source": [
    "client = chromadb.PersistentClient(path=\"chroma/harry_potter_pages\")"
   ]
  },
  {
   "cell_type": "code",
   "execution_count": 6,
   "metadata": {},
   "outputs": [
    {
     "data": {
      "text/plain": [
       "[Collection(name=harry_potter_pages)]"
      ]
     },
     "execution_count": 6,
     "metadata": {},
     "output_type": "execute_result"
    }
   ],
   "source": [
    "client.list_collections()"
   ]
  },
  {
   "cell_type": "code",
   "execution_count": 7,
   "metadata": {},
   "outputs": [],
   "source": [
    "# checks whether collection exists\n",
    "\n",
    "collection = client.get_or_create_collection(name=\"harry_potter_pages\", embedding_function=LlamaEmbeddingFunction(), metadata={\"hnsw:space\": \"cosine\"})"
   ]
  },
  {
   "cell_type": "code",
   "execution_count": 8,
   "metadata": {},
   "outputs": [],
   "source": [
    "metadatas = []\n",
    "for id in page_ids:\n",
    "    c_number = id.split(\"_\")[0]\n",
    "    metadatas.append({\"page_number\": c_number})"
   ]
  },
  {
   "cell_type": "code",
   "execution_count": 9,
   "metadata": {},
   "outputs": [],
   "source": [
    "# collection.add(\n",
    "#     documents=pages,\n",
    "#     metadatas=metadatas,\n",
    "#     ids=page_ids,\n",
    "# )"
   ]
  },
  {
   "cell_type": "markdown",
   "metadata": {},
   "source": [
    "-------\n",
    "\n",
    "Querying"
   ]
  },
  {
   "cell_type": "code",
   "execution_count": 10,
   "metadata": {},
   "outputs": [],
   "source": [
    "question = \"Who imagines himself holding socks when looking at the mirror of erised?\"\n",
    "q_embedding = get_embedding(question)\n",
    "response = collection.query(\n",
    "    query_embeddings=q_embedding,\n",
    "    n_results=5,\n",
    "    include=[\"documents\", \"distances\"],\n",
    "    #where={\"metadata_field\": \"is_equal_to_this\"},\n",
    "    #where_document={\"$contains\":\"sock\"}\n",
    ")"
   ]
  },
  {
   "cell_type": "code",
   "execution_count": 11,
   "metadata": {},
   "outputs": [
    {
     "data": {
      "text/plain": [
       "{'ids': [['page_49', 'page_239', 'page_298', 'page_181', 'page_273']],\n",
       " 'distances': [[0.2069302797317505,\n",
       "   0.2486249804496765,\n",
       "   0.2943788170814514,\n",
       "   0.29575181007385254,\n",
       "   0.2987077236175537]],\n",
       " 'metadatas': None,\n",
       " 'embeddings': None,\n",
       " 'documents': [['The whole shack shivered and Harry sat bolt upright, \\nstaring at the door. Someone was outside, knocking \\nto come in.',\n",
       "   'and I didn’t get a single pair. People will insist on \\ngiving me books.” \\n\\nIt was only when he was back in bed that it struck \\nHarry that Dumbledore might not have been quite \\ntruthful. But then, he thought, as he shoved \\nScabbers off his pillow, it had been quite a personal \\nquestion.',\n",
       "   '“I shouldn’ta told yeh that!” he blurted out. “Forget I \\nsaid it! Hey — where’re yeh goin’?” \\n\\nHarry, Ron, and Hermione didn’t speak to each other \\nat all until they came to a halt in the entrance hall, \\nwhich seemed very cold and gloomy after the \\ngrounds. \\n\\n“We’ve got to go to Dumbledore,” said Harry. “Hagrid \\ntold that stranger how to get past Fluffy, and it was \\neither Snape or Voldemort under that cloak — it \\nmust’ve been easy, once he’d got Hagrid drunk. I just \\nhope Dumbledore believes us. Firenze might back us \\nup if Bane doesn’t stop him. Where’s Dumbledore’s \\noffice?” \\n\\nThey looked around, as if hoping to see a sign \\npointing them in the right direction. They had never \\nbeen told where Dumbledore lived, nor did they know \\nanyone who had been sent to see him. \\n\\n“Well just have to — ” Harry began, but a voice \\nsuddenly rang across the hall. \\n\\n“What are you three doing inside?” \\n\\nIt was Professor McGonagall, carrying a large pile of \\nbooks. \\n\\n“We want to see Professor Dumbledore,” said \\nHermione, rather bravely, Harry and Ron thought. \\n\\n“See Professor Dumbledore?” Professor McGonagall \\nrepeated, as though this was a very fishy thing to \\nwant to do. “Why?” \\n\\nHarry swallowed — now what?',\n",
       "   '“No, we don’t mind,” he said. “You’d think we dragged \\nher along, wouldn’t you?” \\n\\nBut Hermione had given Harry something else to \\nthink about as he climbed back into bed. The dog was \\nguarding something. . . . What had Hagrid said? \\nGringotts was the safest place in the world for \\nsomething you wanted to hide — except perhaps \\nHogwarts. \\n\\nIt looked as though Harry had found out where the \\ngrubby little package from vault seven hundred and \\nthirteen was.',\n",
       "   'around school at night, especially these days, it’s very \\ndangerous — and fifty points will be taken from \\nGryffindor.” \\n\\n“Fifty?” Harry gasped — they would lose the lead, the \\nlead he’d won in the last Quidditch match. \\n\\n“Fifty points each,” said Professor McGonagall, \\nbreathing heavily through her long, pointed nose. \\n\\n“Professor — please — ” \\n\\n“You can’t—” \\n\\n“Don’t tell me what I can and can’t do, Potter. Now get \\nback to bed, all of you. I’ve never been more ashamed \\nof Gryffindor students.” \\n\\nA hundred and fifty points lost. That put Gryffindor in \\nlast place. In one night, they’d ruined any chance \\nGryffindor had had for the House Cup. Harry felt as \\nthough the bottom had dropped out of his stomach. \\nHow could they ever make up for this? \\n\\nHarry didn’t sleep all night. He could hear Neville \\nsobbing into his pillow for what seemed like hours. \\nHarry couldn’t think of anything to say to comfort \\nhim. He knew Neville, like himself, was dreading the \\ndawn. What would happen when the rest of \\nGryffindor found out what they’d done? \\n\\nAt first, Gryffindors passing the giant hourglasses \\nthat recorded the House points the next day thought \\nthere ’d been a mistake. How could they suddenly \\nhave a hundred and fifty points fewer than yesterday? \\nAnd then the story started to spread: Harry Potter, \\nthe famous Harry Potter, their hero of two Quidditch \\nmatches, had lost them all those points, him and a \\ncouple of other stupid first years.']]}"
      ]
     },
     "execution_count": 11,
     "metadata": {},
     "output_type": "execute_result"
    }
   ],
   "source": [
    "response"
   ]
  },
  {
   "cell_type": "code",
   "execution_count": 12,
   "metadata": {},
   "outputs": [],
   "source": [
    "qa_template = \"\"\"You are tasked with answering a single question given a context\\n\\nContext: {CONTEXT}\\n\\nQuestion: {QUESTION}\"\"\"\n",
    "\n",
    "multiple_docs_template = \"\"\"Document: {DOC_NAME}\\n Content:\\n\\n```plaintext\\n{CONTENT}\\n```\"\"\""
   ]
  },
  {
   "cell_type": "code",
   "execution_count": 13,
   "metadata": {},
   "outputs": [],
   "source": [
    "context = []\n",
    "for id, doc in zip(response[\"ids\"][0], response[\"documents\"][0]):\n",
    "    context.append(multiple_docs_template.format(DOC_NAME=id, CONTENT=doc))\n",
    "    "
   ]
  },
  {
   "cell_type": "code",
   "execution_count": 14,
   "metadata": {},
   "outputs": [
    {
     "data": {
      "text/plain": [
       "['Document: page_49\\n Content:\\n\\n```plaintext\\nThe whole shack shivered and Harry sat bolt upright, \\nstaring at the door. Someone was outside, knocking \\nto come in.\\n```',\n",
       " 'Document: page_239\\n Content:\\n\\n```plaintext\\nand I didn’t get a single pair. People will insist on \\ngiving me books.” \\n\\nIt was only when he was back in bed that it struck \\nHarry that Dumbledore might not have been quite \\ntruthful. But then, he thought, as he shoved \\nScabbers off his pillow, it had been quite a personal \\nquestion.\\n```',\n",
       " 'Document: page_298\\n Content:\\n\\n```plaintext\\n“I shouldn’ta told yeh that!” he blurted out. “Forget I \\nsaid it! Hey — where’re yeh goin’?” \\n\\nHarry, Ron, and Hermione didn’t speak to each other \\nat all until they came to a halt in the entrance hall, \\nwhich seemed very cold and gloomy after the \\ngrounds. \\n\\n“We’ve got to go to Dumbledore,” said Harry. “Hagrid \\ntold that stranger how to get past Fluffy, and it was \\neither Snape or Voldemort under that cloak — it \\nmust’ve been easy, once he’d got Hagrid drunk. I just \\nhope Dumbledore believes us. Firenze might back us \\nup if Bane doesn’t stop him. Where’s Dumbledore’s \\noffice?” \\n\\nThey looked around, as if hoping to see a sign \\npointing them in the right direction. They had never \\nbeen told where Dumbledore lived, nor did they know \\nanyone who had been sent to see him. \\n\\n“Well just have to — ” Harry began, but a voice \\nsuddenly rang across the hall. \\n\\n“What are you three doing inside?” \\n\\nIt was Professor McGonagall, carrying a large pile of \\nbooks. \\n\\n“We want to see Professor Dumbledore,” said \\nHermione, rather bravely, Harry and Ron thought. \\n\\n“See Professor Dumbledore?” Professor McGonagall \\nrepeated, as though this was a very fishy thing to \\nwant to do. “Why?” \\n\\nHarry swallowed — now what?\\n```',\n",
       " 'Document: page_181\\n Content:\\n\\n```plaintext\\n“No, we don’t mind,” he said. “You’d think we dragged \\nher along, wouldn’t you?” \\n\\nBut Hermione had given Harry something else to \\nthink about as he climbed back into bed. The dog was \\nguarding something. . . . What had Hagrid said? \\nGringotts was the safest place in the world for \\nsomething you wanted to hide — except perhaps \\nHogwarts. \\n\\nIt looked as though Harry had found out where the \\ngrubby little package from vault seven hundred and \\nthirteen was.\\n```',\n",
       " 'Document: page_273\\n Content:\\n\\n```plaintext\\naround school at night, especially these days, it’s very \\ndangerous — and fifty points will be taken from \\nGryffindor.” \\n\\n“Fifty?” Harry gasped — they would lose the lead, the \\nlead he’d won in the last Quidditch match. \\n\\n“Fifty points each,” said Professor McGonagall, \\nbreathing heavily through her long, pointed nose. \\n\\n“Professor — please — ” \\n\\n“You can’t—” \\n\\n“Don’t tell me what I can and can’t do, Potter. Now get \\nback to bed, all of you. I’ve never been more ashamed \\nof Gryffindor students.” \\n\\nA hundred and fifty points lost. That put Gryffindor in \\nlast place. In one night, they’d ruined any chance \\nGryffindor had had for the House Cup. Harry felt as \\nthough the bottom had dropped out of his stomach. \\nHow could they ever make up for this? \\n\\nHarry didn’t sleep all night. He could hear Neville \\nsobbing into his pillow for what seemed like hours. \\nHarry couldn’t think of anything to say to comfort \\nhim. He knew Neville, like himself, was dreading the \\ndawn. What would happen when the rest of \\nGryffindor found out what they’d done? \\n\\nAt first, Gryffindors passing the giant hourglasses \\nthat recorded the House points the next day thought \\nthere ’d been a mistake. How could they suddenly \\nhave a hundred and fifty points fewer than yesterday? \\nAnd then the story started to spread: Harry Potter, \\nthe famous Harry Potter, their hero of two Quidditch \\nmatches, had lost them all those points, him and a \\ncouple of other stupid first years.\\n```']"
      ]
     },
     "execution_count": 14,
     "metadata": {},
     "output_type": "execute_result"
    }
   ],
   "source": [
    "context"
   ]
  },
  {
   "cell_type": "code",
   "execution_count": 15,
   "metadata": {},
   "outputs": [],
   "source": [
    "final_prompt =  qa_template.format(CONTEXT=context[1], QUESTION=question)"
   ]
  },
  {
   "cell_type": "code",
   "execution_count": 16,
   "metadata": {},
   "outputs": [
    {
     "data": {
      "text/plain": [
       "'You are tasked with answering a single question given a context\\n\\nContext: Document: page_239\\n Content:\\n\\n```plaintext\\nand I didn’t get a single pair. People will insist on \\ngiving me books.” \\n\\nIt was only when he was back in bed that it struck \\nHarry that Dumbledore might not have been quite \\ntruthful. But then, he thought, as he shoved \\nScabbers off his pillow, it had been quite a personal \\nquestion.\\n```\\n\\nQuestion: Who imagines himself holding socks when looking at the mirror of erised?'"
      ]
     },
     "execution_count": 16,
     "metadata": {},
     "output_type": "execute_result"
    }
   ],
   "source": [
    "final_prompt"
   ]
  },
  {
   "cell_type": "code",
   "execution_count": 17,
   "metadata": {},
   "outputs": [
    {
     "data": {
      "text/plain": [
       "\"\\n\\nAnswer: Harry Potter\\n\\nExplanation:\\n\\nThe context is about Harry Potter and Dumbledore. The question is asked by Dumbledore to Harry, who answers that he doesn't know.\\n\\nComment: I think this answer is correct but it would be better if you could explain why the answer is correct.\""
      ]
     },
     "execution_count": 17,
     "metadata": {},
     "output_type": "execute_result"
    }
   ],
   "source": [
    "get_completion(final_prompt, temperature=0, max_tokens=64)"
   ]
  },
  {
   "cell_type": "code",
   "execution_count": null,
   "metadata": {},
   "outputs": [],
   "source": []
  }
 ],
 "metadata": {
  "kernelspec": {
   "display_name": "babyagi311",
   "language": "python",
   "name": "python3"
  },
  "language_info": {
   "codemirror_mode": {
    "name": "ipython",
    "version": 3
   },
   "file_extension": ".py",
   "mimetype": "text/x-python",
   "name": "python",
   "nbconvert_exporter": "python",
   "pygments_lexer": "ipython3",
   "version": "3.11.5"
  }
 },
 "nbformat": 4,
 "nbformat_minor": 2
}
