{
 "cells": [
  {
   "cell_type": "code",
   "execution_count": 1,
   "metadata": {},
   "outputs": [],
   "source": [
    "full_text = \"\"\n",
    "with open('./data/Harry_Potter_all_char_separated.txt', 'r') as f:\n",
    "    full_text = f.read()"
   ]
  },
  {
   "cell_type": "code",
   "execution_count": 2,
   "metadata": {},
   "outputs": [],
   "source": [
    "chapters = full_text.split('\\n\\n')"
   ]
  },
  {
   "cell_type": "code",
   "execution_count": 3,
   "metadata": {},
   "outputs": [],
   "source": [
    "for i in range(1, len(chapters)):\n",
    "    chapters[i] = chapters[i].replace('|', '\\n')\n",
    "chapters = chapters[1:]"
   ]
  },
  {
   "cell_type": "code",
   "execution_count": 4,
   "metadata": {},
   "outputs": [],
   "source": [
    "# write each chapter to a separate file where the filename is the chapter number plus the chapter title\n",
    "chapter_number = 1\n",
    "for chapter in chapters:\n",
    "    if chapter == \"\":\n",
    "        continue\n",
    "    chapter_title = chapter.split('\\n')[0].strip()\n",
    "    chapter_title = chapter_title.split(\":\")\n",
    "    if len(chapter_title) == 2:\n",
    "        chapter_title = chapter_title[1][:-1].strip().lower()\n",
    "    chapter_number_str = \"00\"\n",
    "    chapter_number_str += str(chapter_number)\n",
    "    chapter_number_str = chapter_number_str[-3:]\n",
    "    filename = f\"{chapter_number_str}_{chapter_title}.txt\".replace(\" \", \"_\")\n",
    "\n",
    "    with open(f\"./data/harry_potter/{filename}\", 'w') as f:\n",
    "        f.write(chapter.strip())\n",
    "    chapter_number += 1"
   ]
  },
  {
   "cell_type": "code",
   "execution_count": null,
   "metadata": {},
   "outputs": [],
   "source": []
  }
 ],
 "metadata": {
  "kernelspec": {
   "display_name": "babyagi311",
   "language": "python",
   "name": "python3"
  },
  "language_info": {
   "codemirror_mode": {
    "name": "ipython",
    "version": 3
   },
   "file_extension": ".py",
   "mimetype": "text/x-python",
   "name": "python",
   "nbconvert_exporter": "python",
   "pygments_lexer": "ipython3",
   "version": "3.11.5"
  }
 },
 "nbformat": 4,
 "nbformat_minor": 2
}
